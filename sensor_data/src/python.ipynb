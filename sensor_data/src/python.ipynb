{
 "cells": [
  {
   "cell_type": "code",
   "execution_count": 351,
   "metadata": {},
   "outputs": [],
   "source": [
    "import pandas as pd\n",
    "import matplotlib.pyplot as plt\n",
    "import numpy as np\n",
    "import pymysql\n",
    "from scipy.stats import pearsonr"
   ]
  },
  {
   "cell_type": "code",
   "execution_count": null,
   "metadata": {},
   "outputs": [],
   "source": [
    "sql_query_modbus = 'select * from modbus_data'\n",
    "sql_query_mqtt = 'select * from mqtt_data'\n",
    "\n",
    "conn = pymysql.connect(\n",
    "    host='192.168.71.213',\n",
    "    user='root',\n",
    "    password='P@ssw0rd',\n",
    "    db='IOT'\n",
    ")\n",
    "\n",
    "try:\n",
    "    cursor = conn.cursor()\n",
    "    cursor.execute(sql_query_modbus)\n",
    "    result = cursor.fetchall()\n",
    "    cursor.execute(sql_query_mqtt)\n",
    "    result1 = cursor.fetchall()\n",
    "except Exception as e:\n",
    "    print(e)\n",
    "finally:\n",
    "    conn.close()"
   ]
  },
  {
   "cell_type": "code",
   "execution_count": 353,
   "metadata": {},
   "outputs": [
    {
     "data": {
      "text/plain": [
       "0    1573\n",
       "1    1573\n",
       "2    1573\n",
       "3    1573\n",
       "dtype: int64"
      ]
     },
     "execution_count": 353,
     "metadata": {},
     "output_type": "execute_result"
    }
   ],
   "source": [
    "df_modbus = pd.DataFrame(result)\n",
    "df_modbus.count()"
   ]
  },
  {
   "cell_type": "code",
   "execution_count": 354,
   "metadata": {},
   "outputs": [
    {
     "data": {
      "text/plain": [
       "0    974\n",
       "1    974\n",
       "2    974\n",
       "3    974\n",
       "4    974\n",
       "5    974\n",
       "dtype: int64"
      ]
     },
     "execution_count": 354,
     "metadata": {},
     "output_type": "execute_result"
    }
   ],
   "source": [
    "df_mqtt = pd.DataFrame(result1)\n",
    "df_mqtt.count()"
   ]
  },
  {
   "cell_type": "code",
   "execution_count": 355,
   "metadata": {},
   "outputs": [
    {
     "data": {
      "text/plain": [
       "0    0\n",
       "1    0\n",
       "2    0\n",
       "3    0\n",
       "4    0\n",
       "5    0\n",
       "dtype: int64"
      ]
     },
     "execution_count": 355,
     "metadata": {},
     "output_type": "execute_result"
    }
   ],
   "source": [
    "df_mqtt.isnull().sum()"
   ]
  },
  {
   "cell_type": "code",
   "execution_count": 356,
   "metadata": {},
   "outputs": [
    {
     "data": {
      "text/plain": [
       "0    0\n",
       "1    0\n",
       "2    0\n",
       "3    0\n",
       "dtype: int64"
      ]
     },
     "execution_count": 356,
     "metadata": {},
     "output_type": "execute_result"
    }
   ],
   "source": [
    "df_modbus.isnull().sum()"
   ]
  },
  {
   "cell_type": "code",
   "execution_count": 357,
   "metadata": {},
   "outputs": [
    {
     "data": {
      "text/html": [
       "<div>\n",
       "<style scoped>\n",
       "    .dataframe tbody tr th:only-of-type {\n",
       "        vertical-align: middle;\n",
       "    }\n",
       "\n",
       "    .dataframe tbody tr th {\n",
       "        vertical-align: top;\n",
       "    }\n",
       "\n",
       "    .dataframe thead th {\n",
       "        text-align: right;\n",
       "    }\n",
       "</style>\n",
       "<table border=\"1\" class=\"dataframe\">\n",
       "  <thead>\n",
       "    <tr style=\"text-align: right;\">\n",
       "      <th></th>\n",
       "      <th>0</th>\n",
       "      <th>1</th>\n",
       "      <th>2</th>\n",
       "      <th>3</th>\n",
       "    </tr>\n",
       "  </thead>\n",
       "  <tbody>\n",
       "    <tr>\n",
       "      <th>0</th>\n",
       "      <td>125</td>\n",
       "      <td>type</td>\n",
       "      <td>1.00</td>\n",
       "      <td>2024-12-17 20:42:06</td>\n",
       "    </tr>\n",
       "    <tr>\n",
       "      <th>1</th>\n",
       "      <td>126</td>\n",
       "      <td>current</td>\n",
       "      <td>0.27</td>\n",
       "      <td>2024-12-17 20:42:06</td>\n",
       "    </tr>\n",
       "    <tr>\n",
       "      <th>2</th>\n",
       "      <td>127</td>\n",
       "      <td>W</td>\n",
       "      <td>7.00</td>\n",
       "      <td>2024-12-17 20:42:07</td>\n",
       "    </tr>\n",
       "    <tr>\n",
       "      <th>3</th>\n",
       "      <td>128</td>\n",
       "      <td>VAR</td>\n",
       "      <td>1.00</td>\n",
       "      <td>2024-12-17 20:42:07</td>\n",
       "    </tr>\n",
       "    <tr>\n",
       "      <th>4</th>\n",
       "      <td>129</td>\n",
       "      <td>VAR</td>\n",
       "      <td>57.00</td>\n",
       "      <td>2024-12-17 20:42:07</td>\n",
       "    </tr>\n",
       "  </tbody>\n",
       "</table>\n",
       "</div>"
      ],
      "text/plain": [
       "     0        1      2                    3\n",
       "0  125     type   1.00  2024-12-17 20:42:06\n",
       "1  126  current   0.27  2024-12-17 20:42:06\n",
       "2  127        W   7.00  2024-12-17 20:42:07\n",
       "3  128      VAR   1.00  2024-12-17 20:42:07\n",
       "4  129      VAR  57.00  2024-12-17 20:42:07"
      ]
     },
     "execution_count": 357,
     "metadata": {},
     "output_type": "execute_result"
    }
   ],
   "source": [
    "df_modbus.head()"
   ]
  },
  {
   "cell_type": "code",
   "execution_count": 358,
   "metadata": {},
   "outputs": [
    {
     "data": {
      "text/html": [
       "<div>\n",
       "<style scoped>\n",
       "    .dataframe tbody tr th:only-of-type {\n",
       "        vertical-align: middle;\n",
       "    }\n",
       "\n",
       "    .dataframe tbody tr th {\n",
       "        vertical-align: top;\n",
       "    }\n",
       "\n",
       "    .dataframe thead th {\n",
       "        text-align: right;\n",
       "    }\n",
       "</style>\n",
       "<table border=\"1\" class=\"dataframe\">\n",
       "  <thead>\n",
       "    <tr style=\"text-align: right;\">\n",
       "      <th></th>\n",
       "      <th>modbus_id</th>\n",
       "      <th>modbus_name</th>\n",
       "      <th>value</th>\n",
       "      <th>timestamp</th>\n",
       "    </tr>\n",
       "  </thead>\n",
       "  <tbody>\n",
       "    <tr>\n",
       "      <th>0</th>\n",
       "      <td>125</td>\n",
       "      <td>type</td>\n",
       "      <td>1.00</td>\n",
       "      <td>2024-12-17 20:42:06</td>\n",
       "    </tr>\n",
       "    <tr>\n",
       "      <th>1</th>\n",
       "      <td>126</td>\n",
       "      <td>current</td>\n",
       "      <td>0.27</td>\n",
       "      <td>2024-12-17 20:42:06</td>\n",
       "    </tr>\n",
       "    <tr>\n",
       "      <th>2</th>\n",
       "      <td>127</td>\n",
       "      <td>W</td>\n",
       "      <td>7.00</td>\n",
       "      <td>2024-12-17 20:42:07</td>\n",
       "    </tr>\n",
       "    <tr>\n",
       "      <th>3</th>\n",
       "      <td>128</td>\n",
       "      <td>VAR</td>\n",
       "      <td>1.00</td>\n",
       "      <td>2024-12-17 20:42:07</td>\n",
       "    </tr>\n",
       "    <tr>\n",
       "      <th>4</th>\n",
       "      <td>129</td>\n",
       "      <td>VAR</td>\n",
       "      <td>57.00</td>\n",
       "      <td>2024-12-17 20:42:07</td>\n",
       "    </tr>\n",
       "  </tbody>\n",
       "</table>\n",
       "</div>"
      ],
      "text/plain": [
       "   modbus_id modbus_name  value            timestamp\n",
       "0        125        type   1.00  2024-12-17 20:42:06\n",
       "1        126     current   0.27  2024-12-17 20:42:06\n",
       "2        127           W   7.00  2024-12-17 20:42:07\n",
       "3        128         VAR   1.00  2024-12-17 20:42:07\n",
       "4        129         VAR  57.00  2024-12-17 20:42:07"
      ]
     },
     "execution_count": 358,
     "metadata": {},
     "output_type": "execute_result"
    }
   ],
   "source": [
    "# 컬럼 이름 변경\n",
    "df_modbus.rename(columns={0: 'modbus_id', 1: 'modbus_name', 2: 'value', 3: 'timestamp'}, inplace=True)\n",
    "df_modbus.head()"
   ]
  },
  {
   "cell_type": "code",
   "execution_count": 359,
   "metadata": {},
   "outputs": [
    {
     "data": {
      "text/html": [
       "<div>\n",
       "<style scoped>\n",
       "    .dataframe tbody tr th:only-of-type {\n",
       "        vertical-align: middle;\n",
       "    }\n",
       "\n",
       "    .dataframe tbody tr th {\n",
       "        vertical-align: top;\n",
       "    }\n",
       "\n",
       "    .dataframe thead th {\n",
       "        text-align: right;\n",
       "    }\n",
       "</style>\n",
       "<table border=\"1\" class=\"dataframe\">\n",
       "  <thead>\n",
       "    <tr style=\"text-align: right;\">\n",
       "      <th></th>\n",
       "      <th>mqtt_id</th>\n",
       "      <th>measurement</th>\n",
       "      <th>place</th>\n",
       "      <th>spot</th>\n",
       "      <th>value</th>\n",
       "      <th>timestamp</th>\n",
       "    </tr>\n",
       "  </thead>\n",
       "  <tbody>\n",
       "    <tr>\n",
       "      <th>0</th>\n",
       "      <td>1</td>\n",
       "      <td>temperature</td>\n",
       "      <td>storage</td>\n",
       "      <td>입구</td>\n",
       "      <td>18.5</td>\n",
       "      <td>2024-12-17 19:04:11</td>\n",
       "    </tr>\n",
       "    <tr>\n",
       "      <th>1</th>\n",
       "      <td>2</td>\n",
       "      <td>humidity</td>\n",
       "      <td>storage</td>\n",
       "      <td>입구</td>\n",
       "      <td>23.0</td>\n",
       "      <td>2024-12-17 19:04:11</td>\n",
       "    </tr>\n",
       "    <tr>\n",
       "      <th>2</th>\n",
       "      <td>3</td>\n",
       "      <td>temperature</td>\n",
       "      <td>hive</td>\n",
       "      <td>정수기 위</td>\n",
       "      <td>25.0</td>\n",
       "      <td>2024-12-17 19:04:19</td>\n",
       "    </tr>\n",
       "    <tr>\n",
       "      <th>3</th>\n",
       "      <td>4</td>\n",
       "      <td>battery</td>\n",
       "      <td>hive</td>\n",
       "      <td>정수기 위</td>\n",
       "      <td>1.0</td>\n",
       "      <td>2024-12-17 19:04:19</td>\n",
       "    </tr>\n",
       "    <tr>\n",
       "      <th>4</th>\n",
       "      <td>5</td>\n",
       "      <td>humidity</td>\n",
       "      <td>hive</td>\n",
       "      <td>정수기 위</td>\n",
       "      <td>20.5</td>\n",
       "      <td>2024-12-17 19:04:19</td>\n",
       "    </tr>\n",
       "  </tbody>\n",
       "</table>\n",
       "</div>"
      ],
      "text/plain": [
       "   mqtt_id  measurement    place   spot  value            timestamp\n",
       "0        1  temperature  storage     입구   18.5  2024-12-17 19:04:11\n",
       "1        2     humidity  storage     입구   23.0  2024-12-17 19:04:11\n",
       "2        3  temperature     hive  정수기 위   25.0  2024-12-17 19:04:19\n",
       "3        4      battery     hive  정수기 위    1.0  2024-12-17 19:04:19\n",
       "4        5     humidity     hive  정수기 위   20.5  2024-12-17 19:04:19"
      ]
     },
     "execution_count": 359,
     "metadata": {},
     "output_type": "execute_result"
    }
   ],
   "source": [
    "df_mqtt.rename(columns={0: 'mqtt_id', 1: 'measurement', 2: 'place', 3: 'spot', 4:'value', 5:'timestamp'}, inplace=True)\n",
    "df_mqtt.head()"
   ]
  },
  {
   "cell_type": "code",
   "execution_count": 360,
   "metadata": {},
   "outputs": [
    {
     "name": "stdout",
     "output_type": "stream",
     "text": [
      "<class 'pandas.core.frame.DataFrame'>\n",
      "RangeIndex: 1573 entries, 0 to 1572\n",
      "Data columns (total 4 columns):\n",
      " #   Column       Non-Null Count  Dtype  \n",
      "---  ------       --------------  -----  \n",
      " 0   modbus_id    1573 non-null   int64  \n",
      " 1   modbus_name  1573 non-null   object \n",
      " 2   value        1573 non-null   float64\n",
      " 3   timestamp    1573 non-null   object \n",
      "dtypes: float64(1), int64(1), object(2)\n",
      "memory usage: 49.3+ KB\n"
     ]
    }
   ],
   "source": [
    "df_modbus.info()"
   ]
  },
  {
   "cell_type": "code",
   "execution_count": 361,
   "metadata": {},
   "outputs": [
    {
     "data": {
      "text/plain": [
       "array(['type', 'current', 'W', 'VAR', 'VA', 'PF average', 'I THD average',\n",
       "       'V1', 'I1', 'phase', 'power factor', 'I1 THD', 'current unbalance',\n",
       "       'volt unbalance'], dtype=object)"
      ]
     },
     "execution_count": 361,
     "metadata": {},
     "output_type": "execute_result"
    }
   ],
   "source": [
    "df_modbus['modbus_name'].unique()"
   ]
  },
  {
   "cell_type": "code",
   "execution_count": 362,
   "metadata": {},
   "outputs": [
    {
     "data": {
      "text/plain": [
       "array(['temperature', 'humidity', 'battery', 'distance', 'occupancy',\n",
       "       'co2', 'pressure', 'voltage', 'battery_level', 'di', 'infrared',\n",
       "       'tvoc', 'activity', 'illumination', 'infrared_and_visible'],\n",
       "      dtype=object)"
      ]
     },
     "execution_count": 362,
     "metadata": {},
     "output_type": "execute_result"
    }
   ],
   "source": [
    "df_mqtt['measurement'].unique()"
   ]
  },
  {
   "cell_type": "code",
   "execution_count": 363,
   "metadata": {},
   "outputs": [],
   "source": [
    "mqtt_occupancy = df_mqtt[df_mqtt['measurement'] == 'occupancy']\n",
    "mqtt_battery = df_mqtt[df_mqtt['measurement'] == 'battery']\n",
    "mqtt_distance = df_mqtt[df_mqtt['measurement'] == 'distance']\n",
    "mqtt_voltage = df_mqtt[df_mqtt['measurement'] == 'voltage']\n",
    "mqtt_temperature = df_mqtt[df_mqtt['measurement'] == 'temperature']\n",
    "mqtt_humidity = df_mqtt[df_mqtt['measurement'] == 'humidity']\n",
    "mqtt_co2 = df_mqtt[df_mqtt['measurement'] == 'co2']\n",
    "mqtt_tvoc = df_mqtt[df_mqtt['measurement'] == 'tvoc']\n",
    "mqtt_illumination = df_mqtt[df_mqtt['measurement'] == 'illumination']\n",
    "mqtt_infrared = df_mqtt[df_mqtt['measurement'] == 'infrared']"
   ]
  },
  {
   "cell_type": "code",
   "execution_count": 364,
   "metadata": {},
   "outputs": [],
   "source": [
    "modbus_type = df_modbus[df_modbus['modbus_name'] == 'type']\n",
    "modbus_current = df_modbus[df_modbus['modbus_name'] == 'current']\n",
    "modbus_W = df_modbus[df_modbus['modbus_name'] == 'W']\n",
    "modbus_VAR = df_modbus[df_modbus['modbus_name'] == 'VAR']\n",
    "modbus_VA = df_modbus[df_modbus['modbus_name'] == 'VA']"
   ]
  },
  {
   "cell_type": "code",
   "execution_count": 365,
   "metadata": {},
   "outputs": [
    {
     "data": {
      "text/html": [
       "<div>\n",
       "<style scoped>\n",
       "    .dataframe tbody tr th:only-of-type {\n",
       "        vertical-align: middle;\n",
       "    }\n",
       "\n",
       "    .dataframe tbody tr th {\n",
       "        vertical-align: top;\n",
       "    }\n",
       "\n",
       "    .dataframe thead th {\n",
       "        text-align: right;\n",
       "    }\n",
       "</style>\n",
       "<table border=\"1\" class=\"dataframe\">\n",
       "  <thead>\n",
       "    <tr style=\"text-align: right;\">\n",
       "      <th></th>\n",
       "      <th>modbus_id</th>\n",
       "      <th>modbus_name</th>\n",
       "      <th>value</th>\n",
       "      <th>timestamp</th>\n",
       "    </tr>\n",
       "  </thead>\n",
       "  <tbody>\n",
       "    <tr>\n",
       "      <th>0</th>\n",
       "      <td>125</td>\n",
       "      <td>type</td>\n",
       "      <td>1.0</td>\n",
       "      <td>2024-12-17 20:42:06</td>\n",
       "    </tr>\n",
       "    <tr>\n",
       "      <th>17</th>\n",
       "      <td>142</td>\n",
       "      <td>type</td>\n",
       "      <td>2.0</td>\n",
       "      <td>2024-12-17 20:42:13</td>\n",
       "    </tr>\n",
       "    <tr>\n",
       "      <th>34</th>\n",
       "      <td>159</td>\n",
       "      <td>type</td>\n",
       "      <td>3.0</td>\n",
       "      <td>2024-12-17 20:42:19</td>\n",
       "    </tr>\n",
       "    <tr>\n",
       "      <th>51</th>\n",
       "      <td>176</td>\n",
       "      <td>type</td>\n",
       "      <td>1.0</td>\n",
       "      <td>2024-12-17 20:42:25</td>\n",
       "    </tr>\n",
       "    <tr>\n",
       "      <th>53</th>\n",
       "      <td>178</td>\n",
       "      <td>type</td>\n",
       "      <td>2.0</td>\n",
       "      <td>2024-12-17 20:42:31</td>\n",
       "    </tr>\n",
       "  </tbody>\n",
       "</table>\n",
       "</div>"
      ],
      "text/plain": [
       "    modbus_id modbus_name  value            timestamp\n",
       "0         125        type    1.0  2024-12-17 20:42:06\n",
       "17        142        type    2.0  2024-12-17 20:42:13\n",
       "34        159        type    3.0  2024-12-17 20:42:19\n",
       "51        176        type    1.0  2024-12-17 20:42:25\n",
       "53        178        type    2.0  2024-12-17 20:42:31"
      ]
     },
     "execution_count": 365,
     "metadata": {},
     "output_type": "execute_result"
    }
   ],
   "source": [
    "modbus_type.head()"
   ]
  },
  {
   "cell_type": "code",
   "execution_count": 366,
   "metadata": {},
   "outputs": [
    {
     "data": {
      "text/html": [
       "<div>\n",
       "<style scoped>\n",
       "    .dataframe tbody tr th:only-of-type {\n",
       "        vertical-align: middle;\n",
       "    }\n",
       "\n",
       "    .dataframe tbody tr th {\n",
       "        vertical-align: top;\n",
       "    }\n",
       "\n",
       "    .dataframe thead th {\n",
       "        text-align: right;\n",
       "    }\n",
       "</style>\n",
       "<table border=\"1\" class=\"dataframe\">\n",
       "  <thead>\n",
       "    <tr style=\"text-align: right;\">\n",
       "      <th></th>\n",
       "      <th>modbus_id</th>\n",
       "      <th>modbus_name</th>\n",
       "      <th>value</th>\n",
       "      <th>timestamp</th>\n",
       "    </tr>\n",
       "  </thead>\n",
       "  <tbody>\n",
       "    <tr>\n",
       "      <th>1</th>\n",
       "      <td>126</td>\n",
       "      <td>current</td>\n",
       "      <td>0.27</td>\n",
       "      <td>2024-12-17 20:42:06</td>\n",
       "    </tr>\n",
       "    <tr>\n",
       "      <th>18</th>\n",
       "      <td>143</td>\n",
       "      <td>current</td>\n",
       "      <td>0.14</td>\n",
       "      <td>2024-12-17 20:42:13</td>\n",
       "    </tr>\n",
       "    <tr>\n",
       "      <th>35</th>\n",
       "      <td>160</td>\n",
       "      <td>current</td>\n",
       "      <td>2.13</td>\n",
       "      <td>2024-12-17 20:42:19</td>\n",
       "    </tr>\n",
       "    <tr>\n",
       "      <th>56</th>\n",
       "      <td>181</td>\n",
       "      <td>current</td>\n",
       "      <td>1.23</td>\n",
       "      <td>2024-12-17 20:42:37</td>\n",
       "    </tr>\n",
       "    <tr>\n",
       "      <th>73</th>\n",
       "      <td>198</td>\n",
       "      <td>current</td>\n",
       "      <td>0.33</td>\n",
       "      <td>2024-12-17 20:42:44</td>\n",
       "    </tr>\n",
       "  </tbody>\n",
       "</table>\n",
       "</div>"
      ],
      "text/plain": [
       "    modbus_id modbus_name  value            timestamp\n",
       "1         126     current   0.27  2024-12-17 20:42:06\n",
       "18        143     current   0.14  2024-12-17 20:42:13\n",
       "35        160     current   2.13  2024-12-17 20:42:19\n",
       "56        181     current   1.23  2024-12-17 20:42:37\n",
       "73        198     current   0.33  2024-12-17 20:42:44"
      ]
     },
     "execution_count": 366,
     "metadata": {},
     "output_type": "execute_result"
    }
   ],
   "source": [
    "modbus_current.head()   # 전류(양)"
   ]
  },
  {
   "cell_type": "code",
   "execution_count": 367,
   "metadata": {},
   "outputs": [
    {
     "data": {
      "text/html": [
       "<div>\n",
       "<style scoped>\n",
       "    .dataframe tbody tr th:only-of-type {\n",
       "        vertical-align: middle;\n",
       "    }\n",
       "\n",
       "    .dataframe tbody tr th {\n",
       "        vertical-align: top;\n",
       "    }\n",
       "\n",
       "    .dataframe thead th {\n",
       "        text-align: right;\n",
       "    }\n",
       "</style>\n",
       "<table border=\"1\" class=\"dataframe\">\n",
       "  <thead>\n",
       "    <tr style=\"text-align: right;\">\n",
       "      <th></th>\n",
       "      <th>modbus_id</th>\n",
       "      <th>modbus_name</th>\n",
       "      <th>value</th>\n",
       "      <th>timestamp</th>\n",
       "    </tr>\n",
       "  </thead>\n",
       "  <tbody>\n",
       "    <tr>\n",
       "      <th>2</th>\n",
       "      <td>127</td>\n",
       "      <td>W</td>\n",
       "      <td>7.0</td>\n",
       "      <td>2024-12-17 20:42:07</td>\n",
       "    </tr>\n",
       "    <tr>\n",
       "      <th>10</th>\n",
       "      <td>135</td>\n",
       "      <td>W</td>\n",
       "      <td>7.0</td>\n",
       "      <td>2024-12-17 20:42:07</td>\n",
       "    </tr>\n",
       "    <tr>\n",
       "      <th>19</th>\n",
       "      <td>144</td>\n",
       "      <td>W</td>\n",
       "      <td>4.0</td>\n",
       "      <td>2024-12-17 20:42:13</td>\n",
       "    </tr>\n",
       "    <tr>\n",
       "      <th>27</th>\n",
       "      <td>152</td>\n",
       "      <td>W</td>\n",
       "      <td>4.0</td>\n",
       "      <td>2024-12-17 20:42:13</td>\n",
       "    </tr>\n",
       "    <tr>\n",
       "      <th>36</th>\n",
       "      <td>161</td>\n",
       "      <td>W</td>\n",
       "      <td>405.0</td>\n",
       "      <td>2024-12-17 20:42:19</td>\n",
       "    </tr>\n",
       "  </tbody>\n",
       "</table>\n",
       "</div>"
      ],
      "text/plain": [
       "    modbus_id modbus_name  value            timestamp\n",
       "2         127           W    7.0  2024-12-17 20:42:07\n",
       "10        135           W    7.0  2024-12-17 20:42:07\n",
       "19        144           W    4.0  2024-12-17 20:42:13\n",
       "27        152           W    4.0  2024-12-17 20:42:13\n",
       "36        161           W  405.0  2024-12-17 20:42:19"
      ]
     },
     "execution_count": 367,
     "metadata": {},
     "output_type": "execute_result"
    }
   ],
   "source": [
    "modbus_W.head()     # 전력(에너지의 흐름 속도 측정)"
   ]
  },
  {
   "cell_type": "code",
   "execution_count": 368,
   "metadata": {},
   "outputs": [
    {
     "data": {
      "text/html": [
       "<div>\n",
       "<style scoped>\n",
       "    .dataframe tbody tr th:only-of-type {\n",
       "        vertical-align: middle;\n",
       "    }\n",
       "\n",
       "    .dataframe tbody tr th {\n",
       "        vertical-align: top;\n",
       "    }\n",
       "\n",
       "    .dataframe thead th {\n",
       "        text-align: right;\n",
       "    }\n",
       "</style>\n",
       "<table border=\"1\" class=\"dataframe\">\n",
       "  <thead>\n",
       "    <tr style=\"text-align: right;\">\n",
       "      <th></th>\n",
       "      <th>modbus_id</th>\n",
       "      <th>modbus_name</th>\n",
       "      <th>value</th>\n",
       "      <th>timestamp</th>\n",
       "    </tr>\n",
       "  </thead>\n",
       "  <tbody>\n",
       "    <tr>\n",
       "      <th>3</th>\n",
       "      <td>128</td>\n",
       "      <td>VAR</td>\n",
       "      <td>1.0</td>\n",
       "      <td>2024-12-17 20:42:07</td>\n",
       "    </tr>\n",
       "    <tr>\n",
       "      <th>4</th>\n",
       "      <td>129</td>\n",
       "      <td>VAR</td>\n",
       "      <td>57.0</td>\n",
       "      <td>2024-12-17 20:42:07</td>\n",
       "    </tr>\n",
       "    <tr>\n",
       "      <th>11</th>\n",
       "      <td>136</td>\n",
       "      <td>VAR</td>\n",
       "      <td>1.0</td>\n",
       "      <td>2024-12-17 20:42:07</td>\n",
       "    </tr>\n",
       "    <tr>\n",
       "      <th>12</th>\n",
       "      <td>137</td>\n",
       "      <td>VAR</td>\n",
       "      <td>57.0</td>\n",
       "      <td>2024-12-17 20:42:07</td>\n",
       "    </tr>\n",
       "    <tr>\n",
       "      <th>20</th>\n",
       "      <td>145</td>\n",
       "      <td>VAR</td>\n",
       "      <td>1.0</td>\n",
       "      <td>2024-12-17 20:42:13</td>\n",
       "    </tr>\n",
       "  </tbody>\n",
       "</table>\n",
       "</div>"
      ],
      "text/plain": [
       "    modbus_id modbus_name  value            timestamp\n",
       "3         128         VAR    1.0  2024-12-17 20:42:07\n",
       "4         129         VAR   57.0  2024-12-17 20:42:07\n",
       "11        136         VAR    1.0  2024-12-17 20:42:07\n",
       "12        137         VAR   57.0  2024-12-17 20:42:07\n",
       "20        145         VAR    1.0  2024-12-17 20:42:13"
      ]
     },
     "execution_count": 368,
     "metadata": {},
     "output_type": "execute_result"
    }
   ],
   "source": [
    "modbus_VAR.head()   # 무효 전력"
   ]
  },
  {
   "cell_type": "code",
   "execution_count": 369,
   "metadata": {},
   "outputs": [
    {
     "data": {
      "text/html": [
       "<div>\n",
       "<style scoped>\n",
       "    .dataframe tbody tr th:only-of-type {\n",
       "        vertical-align: middle;\n",
       "    }\n",
       "\n",
       "    .dataframe tbody tr th {\n",
       "        vertical-align: top;\n",
       "    }\n",
       "\n",
       "    .dataframe thead th {\n",
       "        text-align: right;\n",
       "    }\n",
       "</style>\n",
       "<table border=\"1\" class=\"dataframe\">\n",
       "  <thead>\n",
       "    <tr style=\"text-align: right;\">\n",
       "      <th></th>\n",
       "      <th>modbus_id</th>\n",
       "      <th>modbus_name</th>\n",
       "      <th>value</th>\n",
       "      <th>timestamp</th>\n",
       "    </tr>\n",
       "  </thead>\n",
       "  <tbody>\n",
       "    <tr>\n",
       "      <th>5</th>\n",
       "      <td>130</td>\n",
       "      <td>VA</td>\n",
       "      <td>60.0</td>\n",
       "      <td>2024-12-17 20:42:07</td>\n",
       "    </tr>\n",
       "    <tr>\n",
       "      <th>13</th>\n",
       "      <td>138</td>\n",
       "      <td>VA</td>\n",
       "      <td>60.0</td>\n",
       "      <td>2024-12-17 20:42:07</td>\n",
       "    </tr>\n",
       "    <tr>\n",
       "      <th>22</th>\n",
       "      <td>147</td>\n",
       "      <td>VA</td>\n",
       "      <td>33.0</td>\n",
       "      <td>2024-12-17 20:42:13</td>\n",
       "    </tr>\n",
       "    <tr>\n",
       "      <th>30</th>\n",
       "      <td>155</td>\n",
       "      <td>VA</td>\n",
       "      <td>33.0</td>\n",
       "      <td>2024-12-17 20:42:13</td>\n",
       "    </tr>\n",
       "    <tr>\n",
       "      <th>39</th>\n",
       "      <td>164</td>\n",
       "      <td>VA</td>\n",
       "      <td>470.0</td>\n",
       "      <td>2024-12-17 20:42:19</td>\n",
       "    </tr>\n",
       "  </tbody>\n",
       "</table>\n",
       "</div>"
      ],
      "text/plain": [
       "    modbus_id modbus_name  value            timestamp\n",
       "5         130          VA   60.0  2024-12-17 20:42:07\n",
       "13        138          VA   60.0  2024-12-17 20:42:07\n",
       "22        147          VA   33.0  2024-12-17 20:42:13\n",
       "30        155          VA   33.0  2024-12-17 20:42:13\n",
       "39        164          VA  470.0  2024-12-17 20:42:19"
      ]
     },
     "execution_count": 369,
     "metadata": {},
     "output_type": "execute_result"
    }
   ],
   "source": [
    "modbus_VA.head()    # 전체 전력"
   ]
  },
  {
   "cell_type": "markdown",
   "metadata": {},
   "source": [
    "### IQR을 이용한 이상치 분석"
   ]
  },
  {
   "cell_type": "code",
   "execution_count": 370,
   "metadata": {},
   "outputs": [
    {
     "name": "stdout",
     "output_type": "stream",
     "text": [
      "Q1 (1st Quartile): 0.17\n",
      "Q3 (3rd Quartile): 2.145\n",
      "IQR: 1.975\n",
      "Lower Bound: -5.755000000000001\n",
      "Upper Bound: 8.07\n",
      "      modbus_id modbus_name  value            timestamp\n",
      "192         317     current  20.61  2024-12-17 20:43:52\n",
      "212         337     current   8.19  2024-12-17 20:43:58\n",
      "507         632     current  20.95  2024-12-17 20:46:26\n",
      "527         652     current   8.19  2024-12-17 20:46:33\n",
      "818         943     current  20.83  2024-12-17 20:49:01\n",
      "838         963     current   8.20  2024-12-17 20:49:07\n",
      "1135       1260     current  20.67  2024-12-17 20:51:36\n",
      "1155       1280     current   8.19  2024-12-17 20:51:43\n",
      "1448       1573     current  20.74  2024-12-17 20:54:12\n",
      "1468       1593     current   8.17  2024-12-17 20:54:18\n",
      "1518       1643     current  21.05  2024-12-17 20:55:00\n",
      "1538       1663     current   8.19  2024-12-17 20:55:06\n"
     ]
    }
   ],
   "source": [
    "# value 컬럼에 대한 IQR 계산\n",
    "Q1 = modbus_current['value'].quantile(0.25)\n",
    "Q3 = modbus_current['value'].quantile(0.75)\n",
    "IQR = Q3 - Q1\n",
    "\n",
    "# 이상치 기준 설정\n",
    "lower_bound = Q1 - 3 * IQR\n",
    "upper_bound = Q3 + 3 * IQR\n",
    "\n",
    "# 이상치 여부 확인\n",
    "outliers = modbus_current[(modbus_current['value'] < lower_bound) | (modbus_current['value'] > upper_bound)]\n",
    "\n",
    "# 이상치 삭제: IQR 범위를 벗어나는 행 삭제\n",
    "filtered_current = modbus_current[(modbus_current['value'] >= lower_bound) & (modbus_current['value'] <= upper_bound)]\n",
    "\n",
    "# 결과 출력\n",
    "print(f\"Q1 (1st Quartile): {Q1}\")\n",
    "print(f\"Q3 (3rd Quartile): {Q3}\")\n",
    "print(f\"IQR: {IQR}\")\n",
    "print(f\"Lower Bound: {lower_bound}\")\n",
    "print(f\"Upper Bound: {upper_bound}\")\n",
    "print(outliers)\n"
   ]
  },
  {
   "cell_type": "code",
   "execution_count": 371,
   "metadata": {},
   "outputs": [
    {
     "data": {
      "image/png": "[encoded data removed]",
      "text/plain": [
       "<Figure size 800x600 with 1 Axes>"
      ]
     },
     "metadata": {},
     "output_type": "display_data"
    }
   ],
   "source": [
    "# Boxplot을 이용한 시각화\n",
    "plt.figure(figsize=(8, 6))\n",
    "\n",
    "# Boxplot 그리기\n",
    "plt.boxplot(modbus_current['value'], vert=False)\n",
    "\n",
    "# 이상치 기준선 추가\n",
    "plt.axvline(x=lower_bound, color='red', linestyle='--', label=f'Lower Bound: {lower_bound:.2f}')\n",
    "plt.axvline(x=upper_bound, color='red', linestyle='--', label=f'Upper Bound: {upper_bound:.2f}')\n",
    "\n",
    "# 제목과 레이블 추가\n",
    "plt.title('Boxplot of Value (Current: electronic Volume)', fontsize=16)\n",
    "plt.xlabel('Value', fontsize=14)\n",
    "plt.legend()\n",
    "\n",
    "# 출력\n",
    "plt.show()"
   ]
  },
  {
   "cell_type": "code",
   "execution_count": 372,
   "metadata": {},
   "outputs": [
    {
     "name": "stdout",
     "output_type": "stream",
     "text": [
      "Q1 (1st Quartile): 7.0\n",
      "Q3 (3rd Quartile): 405.0\n",
      "IQR: 398.0\n",
      "Lower Bound: -590.0\n",
      "Upper Bound: 1002.0\n",
      "      modbus_id modbus_name   value            timestamp\n",
      "193         318           W  3502.0  2024-12-17 20:43:52\n",
      "213         338           W  1509.0  2024-12-17 20:43:58\n",
      "221         346           W  1509.0  2024-12-17 20:43:58\n",
      "508         633           W  3646.0  2024-12-17 20:46:26\n",
      "528         653           W  1509.0  2024-12-17 20:46:33\n",
      "536         661           W  1509.0  2024-12-17 20:46:33\n",
      "819         944           W  3608.0  2024-12-17 20:49:01\n",
      "839         964           W  1510.0  2024-12-17 20:49:07\n",
      "847         972           W  1510.0  2024-12-17 20:49:08\n",
      "1136       1261           W  3601.0  2024-12-17 20:51:36\n",
      "1156       1281           W  1509.0  2024-12-17 20:51:43\n",
      "1164       1289           W  1509.0  2024-12-17 20:51:43\n",
      "1449       1574           W  3608.0  2024-12-17 20:54:12\n",
      "1469       1594           W  1507.0  2024-12-17 20:54:19\n",
      "1477       1602           W  1507.0  2024-12-17 20:54:19\n",
      "1519       1644           W  3647.0  2024-12-17 20:55:00\n",
      "1539       1664           W  1509.0  2024-12-17 20:55:07\n",
      "1547       1672           W  1509.0  2024-12-17 20:55:07\n"
     ]
    }
   ],
   "source": [
    "# value 컬럼에 대한 IQR 계산\n",
    "Q1 = modbus_W['value'].quantile(0.25)\n",
    "Q3 = modbus_W['value'].quantile(0.75)\n",
    "IQR = Q3 - Q1\n",
    "\n",
    "# 이상치 기준 설정\n",
    "lower_bound = Q1 - 1.5 * IQR\n",
    "upper_bound = Q3 + 1.5 * IQR\n",
    "\n",
    "# 이상치 여부 확인\n",
    "outliers = modbus_W[(modbus_W['value'] < lower_bound) | (modbus_W['value'] > upper_bound)]\n",
    "\n",
    "filtered_W = modbus_W[(modbus_W['value'] >= lower_bound) & (modbus_W['value'] <= upper_bound)]\n",
    "\n",
    "\n",
    "# 결과 출력\n",
    "print(f\"Q1 (1st Quartile): {Q1}\")\n",
    "print(f\"Q3 (3rd Quartile): {Q3}\")\n",
    "print(f\"IQR: {IQR}\")\n",
    "print(f\"Lower Bound: {lower_bound}\")\n",
    "print(f\"Upper Bound: {upper_bound}\")\n",
    "print(outliers)\n"
   ]
  },
  {
   "cell_type": "code",
   "execution_count": 373,
   "metadata": {},
   "outputs": [
    {
     "data": {
      "image/png": "[encoded data removed]",
      "text/plain": [
       "<Figure size 800x600 with 1 Axes>"
      ]
     },
     "metadata": {},
     "output_type": "display_data"
    }
   ],
   "source": [
    "# Boxplot을 이용한 시각화\n",
    "plt.figure(figsize=(8, 6))\n",
    "\n",
    "# Boxplot 그리기\n",
    "plt.boxplot(modbus_W['value'], vert=False)\n",
    "\n",
    "# 이상치 기준선 추가\n",
    "plt.axvline(x=lower_bound, color='red', linestyle='--', label=f'Lower Bound: {lower_bound:.2f}')\n",
    "plt.axvline(x=upper_bound, color='red', linestyle='--', label=f'Upper Bound: {upper_bound:.2f}')\n",
    "\n",
    "# 제목과 레이블 추가\n",
    "plt.title('Boxplot of Value (W: electronic power)', fontsize=16)\n",
    "plt.xlabel('Value', fontsize=14)\n",
    "plt.legend()\n",
    "\n",
    "# 출력\n",
    "plt.show()"
   ]
  },
  {
   "cell_type": "code",
   "execution_count": 374,
   "metadata": {},
   "outputs": [
    {
     "name": "stdout",
     "output_type": "stream",
     "text": [
      "Correlation between 'current' and 'W': nan\n"
     ]
    }
   ],
   "source": [
    "corr_electric = modbus_current['value'].corr(modbus_W['value'])\n",
    "# 상관관계 출력\n",
    "print(f\"Correlation between 'current' and 'W': {corr_electric:.2f}\")"
   ]
  },
  {
   "cell_type": "code",
   "execution_count": 375,
   "metadata": {},
   "outputs": [
    {
     "name": "stdout",
     "output_type": "stream",
     "text": [
      "Q1 (1st Quartile): 1.0\n",
      "Q3 (3rd Quartile): 69.0\n",
      "IQR: 68.0\n",
      "Lower Bound: -101.0\n",
      "Upper Bound: 171.0\n",
      "      modbus_id modbus_name   value            timestamp\n",
      "195         320         VAR  1567.0  2024-12-17 20:43:52\n",
      "204         329         VAR   439.0  2024-12-17 20:43:52\n",
      "215         340         VAR   384.0  2024-12-17 20:43:58\n",
      "223         348         VAR   384.0  2024-12-17 20:43:58\n",
      "232         357         VAR   189.0  2024-12-17 20:44:04\n",
      "240         365         VAR   189.0  2024-12-17 20:44:05\n",
      "285         410         VAR   261.0  2024-12-17 20:44:29\n",
      "293         418         VAR   261.0  2024-12-17 20:44:29\n",
      "510         635         VAR  1418.0  2024-12-17 20:46:26\n",
      "519         644         VAR   278.0  2024-12-17 20:46:27\n",
      "530         655         VAR   384.0  2024-12-17 20:46:33\n",
      "538         663         VAR   384.0  2024-12-17 20:46:33\n",
      "547         672         VAR   189.0  2024-12-17 20:46:39\n",
      "555         680         VAR   189.0  2024-12-17 20:46:39\n",
      "600         725         VAR   261.0  2024-12-17 20:47:04\n",
      "608         733         VAR   261.0  2024-12-17 20:47:04\n",
      "821         946         VAR  1414.0  2024-12-17 20:49:01\n",
      "830         955         VAR   278.0  2024-12-17 20:49:02\n",
      "841         966         VAR   384.0  2024-12-17 20:49:08\n",
      "849         974         VAR   384.0  2024-12-17 20:49:08\n",
      "858         983         VAR   192.0  2024-12-17 20:49:14\n",
      "866         991         VAR   192.0  2024-12-17 20:49:14\n",
      "911        1036         VAR   259.0  2024-12-17 20:49:39\n",
      "919        1044         VAR   259.0  2024-12-17 20:49:39\n",
      "1138       1263         VAR  1405.0  2024-12-17 20:51:36\n",
      "1147       1272         VAR   275.0  2024-12-17 20:51:37\n",
      "1158       1283         VAR   388.0  2024-12-17 20:51:43\n",
      "1166       1291         VAR   388.0  2024-12-17 20:51:43\n",
      "1175       1300         VAR   192.0  2024-12-17 20:51:49\n",
      "1183       1308         VAR   192.0  2024-12-17 20:51:49\n",
      "1228       1353         VAR   256.0  2024-12-17 20:52:15\n",
      "1236       1361         VAR   256.0  2024-12-17 20:52:15\n",
      "1451       1576         VAR  1414.0  2024-12-17 20:54:12\n",
      "1460       1585         VAR   280.0  2024-12-17 20:54:13\n",
      "1471       1596         VAR   388.0  2024-12-17 20:54:19\n",
      "1479       1604         VAR   388.0  2024-12-17 20:54:19\n",
      "1488       1613         VAR   192.0  2024-12-17 20:54:25\n",
      "1496       1621         VAR   192.0  2024-12-17 20:54:25\n",
      "1521       1646         VAR  1415.0  2024-12-17 20:55:00\n",
      "1530       1655         VAR   280.0  2024-12-17 20:55:01\n",
      "1541       1666         VAR   386.0  2024-12-17 20:55:07\n",
      "1549       1674         VAR   386.0  2024-12-17 20:55:07\n",
      "1558       1683         VAR   192.0  2024-12-17 20:55:13\n",
      "1566       1691         VAR   192.0  2024-12-17 20:55:14\n"
     ]
    }
   ],
   "source": [
    "Q1 = modbus_VAR['value'].quantile(0.25)\n",
    "Q3 = modbus_VAR['value'].quantile(0.75)\n",
    "IQR = Q3 - Q1\n",
    "\n",
    "lower_bound = Q1 - 1.5 * IQR\n",
    "upper_bound = Q3 + 1.5 * IQR\n",
    "\n",
    "outliers = modbus_VAR[(modbus_VAR['value'] < lower_bound) | (modbus_VAR['value'] > upper_bound)]\n",
    "\n",
    "filtered_VAR = modbus_VAR[(modbus_VAR['value'] >= lower_bound) & (modbus_VAR['value'] <= upper_bound)]\n",
    "\n",
    "\n",
    "print(f\"Q1 (1st Quartile): {Q1}\")\n",
    "print(f\"Q3 (3rd Quartile): {Q3}\")\n",
    "print(f\"IQR: {IQR}\")\n",
    "print(f\"Lower Bound: {lower_bound}\")\n",
    "print(f\"Upper Bound: {upper_bound}\")\n",
    "print(outliers)\n"
   ]
  },
  {
   "cell_type": "code",
   "execution_count": 376,
   "metadata": {},
   "outputs": [
    {
     "data": {
      "text/html": [
       "<div>\n",
       "<style scoped>\n",
       "    .dataframe tbody tr th:only-of-type {\n",
       "        vertical-align: middle;\n",
       "    }\n",
       "\n",
       "    .dataframe tbody tr th {\n",
       "        vertical-align: top;\n",
       "    }\n",
       "\n",
       "    .dataframe thead th {\n",
       "        text-align: right;\n",
       "    }\n",
       "</style>\n",
       "<table border=\"1\" class=\"dataframe\">\n",
       "  <thead>\n",
       "    <tr style=\"text-align: right;\">\n",
       "      <th></th>\n",
       "      <th>modbus_id</th>\n",
       "      <th>modbus_name</th>\n",
       "      <th>value</th>\n",
       "      <th>timestamp</th>\n",
       "    </tr>\n",
       "  </thead>\n",
       "  <tbody>\n",
       "    <tr>\n",
       "      <th>3</th>\n",
       "      <td>128</td>\n",
       "      <td>VAR</td>\n",
       "      <td>1.0</td>\n",
       "      <td>2024-12-17 20:42:07</td>\n",
       "    </tr>\n",
       "    <tr>\n",
       "      <th>4</th>\n",
       "      <td>129</td>\n",
       "      <td>VAR</td>\n",
       "      <td>57.0</td>\n",
       "      <td>2024-12-17 20:42:07</td>\n",
       "    </tr>\n",
       "    <tr>\n",
       "      <th>11</th>\n",
       "      <td>136</td>\n",
       "      <td>VAR</td>\n",
       "      <td>1.0</td>\n",
       "      <td>2024-12-17 20:42:07</td>\n",
       "    </tr>\n",
       "    <tr>\n",
       "      <th>12</th>\n",
       "      <td>137</td>\n",
       "      <td>VAR</td>\n",
       "      <td>57.0</td>\n",
       "      <td>2024-12-17 20:42:07</td>\n",
       "    </tr>\n",
       "    <tr>\n",
       "      <th>20</th>\n",
       "      <td>145</td>\n",
       "      <td>VAR</td>\n",
       "      <td>1.0</td>\n",
       "      <td>2024-12-17 20:42:13</td>\n",
       "    </tr>\n",
       "  </tbody>\n",
       "</table>\n",
       "</div>"
      ],
      "text/plain": [
       "    modbus_id modbus_name  value            timestamp\n",
       "3         128         VAR    1.0  2024-12-17 20:42:07\n",
       "4         129         VAR   57.0  2024-12-17 20:42:07\n",
       "11        136         VAR    1.0  2024-12-17 20:42:07\n",
       "12        137         VAR   57.0  2024-12-17 20:42:07\n",
       "20        145         VAR    1.0  2024-12-17 20:42:13"
      ]
     },
     "execution_count": 376,
     "metadata": {},
     "output_type": "execute_result"
    }
   ],
   "source": [
    "filtered_VAR.head()"
   ]
  },
  {
   "cell_type": "code",
   "execution_count": 377,
   "metadata": {},
   "outputs": [
    {
     "data": {
      "image/png": "[encoded data removed]",
      "text/plain": [
       "<Figure size 800x600 with 1 Axes>"
      ]
     },
     "metadata": {},
     "output_type": "display_data"
    }
   ],
   "source": [
    "plt.figure(figsize=(8, 6))\n",
    "\n",
    "plt.boxplot(modbus_VAR['value'], vert=False)\n",
    "\n",
    "plt.axvline(x=lower_bound, color='red', linestyle='--', label=f'Lower Bound: {lower_bound:.2f}')\n",
    "plt.axvline(x=upper_bound, color='red', linestyle='--', label=f'Upper Bound: {upper_bound:.2f}')\n",
    "\n",
    "plt.title('Boxplot of Value (VAR: invalidity electronic)', fontsize=16)\n",
    "plt.xlabel('Value', fontsize=14)\n",
    "plt.legend()\n",
    "\n",
    "plt.show()"
   ]
  },
  {
   "cell_type": "code",
   "execution_count": 378,
   "metadata": {},
   "outputs": [
    {
     "name": "stdout",
     "output_type": "stream",
     "text": [
      "Q1 (1st Quartile): 38.0\n",
      "Q3 (3rd Quartile): 480.0\n",
      "IQR: 442.0\n",
      "Lower Bound: -625.0\n",
      "Upper Bound: 1143.0\n",
      "      modbus_id modbus_name   value            timestamp\n",
      "196         321          VA  4580.0  2024-12-17 20:43:52\n",
      "216         341          VA  1812.0  2024-12-17 20:43:58\n",
      "224         349          VA  1812.0  2024-12-17 20:43:59\n",
      "511         636          VA  4649.0  2024-12-17 20:46:26\n",
      "520         645          VA  1149.0  2024-12-17 20:46:27\n",
      "531         656          VA  1814.0  2024-12-17 20:46:33\n",
      "539         664          VA  1814.0  2024-12-17 20:46:33\n",
      "822         947          VA  4614.0  2024-12-17 20:49:01\n",
      "831         956          VA  1145.0  2024-12-17 20:49:02\n",
      "842         967          VA  1812.0  2024-12-17 20:49:08\n",
      "850         975          VA  1812.0  2024-12-17 20:49:08\n",
      "1139       1264          VA  4599.0  2024-12-17 20:51:36\n",
      "1159       1284          VA  1811.0  2024-12-17 20:51:43\n",
      "1167       1292          VA  1811.0  2024-12-17 20:51:43\n",
      "1452       1577          VA  4593.0  2024-12-17 20:54:12\n",
      "1472       1597          VA  1805.0  2024-12-17 20:54:19\n",
      "1480       1605          VA  1805.0  2024-12-17 20:54:19\n",
      "1522       1647          VA  4638.0  2024-12-17 20:55:00\n",
      "1531       1656          VA  1144.0  2024-12-17 20:55:01\n",
      "1542       1667          VA  1806.0  2024-12-17 20:55:07\n",
      "1550       1675          VA  1806.0  2024-12-17 20:55:07\n"
     ]
    }
   ],
   "source": [
    "Q1 = modbus_VA['value'].quantile(0.25)\n",
    "Q3 = modbus_VA['value'].quantile(0.75)\n",
    "IQR = Q3 - Q1\n",
    "\n",
    "lower_bound = Q1 - 1.5 * IQR\n",
    "upper_bound = Q3 + 1.5 * IQR\n",
    "\n",
    "outliers = modbus_VA[(modbus_VA['value'] < lower_bound) | (modbus_VA['value'] > upper_bound)]\n",
    "\n",
    "filtered_VA = modbus_VA[(modbus_VA['value'] >= lower_bound) & (modbus_VA['value'] <= upper_bound)]\n",
    "\n",
    "\n",
    "print(f\"Q1 (1st Quartile): {Q1}\")\n",
    "print(f\"Q3 (3rd Quartile): {Q3}\")\n",
    "print(f\"IQR: {IQR}\")\n",
    "print(f\"Lower Bound: {lower_bound}\")\n",
    "print(f\"Upper Bound: {upper_bound}\")\n",
    "print(outliers)\n"
   ]
  },
  {
   "cell_type": "code",
   "execution_count": 379,
   "metadata": {},
   "outputs": [
    {
     "data": {
      "image/png": "[encoded data removed]",
      "text/plain": [
       "<Figure size 800x600 with 1 Axes>"
      ]
     },
     "metadata": {},
     "output_type": "display_data"
    }
   ],
   "source": [
    "plt.figure(figsize=(8, 6))\n",
    "\n",
    "plt.boxplot(modbus_VA['value'], vert=False)\n",
    "\n",
    "plt.axvline(x=lower_bound, color='red', linestyle='--', label=f'Lower Bound: {lower_bound:.2f}')\n",
    "plt.axvline(x=upper_bound, color='red', linestyle='--', label=f'Upper Bound: {upper_bound:.2f}')\n",
    "\n",
    "plt.title('Boxplot of Value (VA: All electronic)', fontsize=16)\n",
    "plt.xlabel('Value', fontsize=14)\n",
    "plt.legend()\n",
    "\n",
    "plt.show()"
   ]
  },
  {
   "cell_type": "markdown",
   "metadata": {},
   "source": [
    "### 상관관계(MODBUS)"
   ]
  },
  {
   "cell_type": "code",
   "execution_count": 380,
   "metadata": {},
   "outputs": [
    {
     "name": "stdout",
     "output_type": "stream",
     "text": [
      "Correlation between 'current' and 'W': nan\n"
     ]
    }
   ],
   "source": [
    "corr_electric = modbus_current['value'].corr(modbus_VA['value'])\n",
    "# 상관관계 출력\n",
    "print(f\"Correlation between 'current' and 'W': {corr_electric:.2f}\")"
   ]
  },
  {
   "cell_type": "code",
   "execution_count": 381,
   "metadata": {},
   "outputs": [
    {
     "data": {
      "text/plain": [
       "count    90.000000\n",
       "mean      2.771111\n",
       "std       5.282834\n",
       "min       0.050000\n",
       "25%       0.170000\n",
       "50%       0.645000\n",
       "75%       2.145000\n",
       "max      21.050000\n",
       "Name: value, dtype: float64"
      ]
     },
     "execution_count": 381,
     "metadata": {},
     "output_type": "execute_result"
    }
   ],
   "source": [
    "modbus_current['value'].describe()"
   ]
  },
  {
   "cell_type": "code",
   "execution_count": 382,
   "metadata": {},
   "outputs": [
    {
     "data": {
      "text/plain": [
       "count     174.000000\n",
       "mean      384.718391\n",
       "std       741.029565\n",
       "min         2.000000\n",
       "25%         7.000000\n",
       "50%        72.000000\n",
       "75%       405.000000\n",
       "max      3647.000000\n",
       "Name: value, dtype: float64"
      ]
     },
     "execution_count": 382,
     "metadata": {},
     "output_type": "execute_result"
    }
   ],
   "source": [
    "modbus_W['value'].describe()"
   ]
  },
  {
   "cell_type": "code",
   "execution_count": 383,
   "metadata": {},
   "outputs": [
    {
     "name": "stdout",
     "output_type": "stream",
     "text": [
      "nan\n"
     ]
    }
   ],
   "source": [
    "pearson_corr = modbus_VA['value'].corr(modbus_W['value'])\n",
    "print(pearson_corr)"
   ]
  },
  {
   "cell_type": "code",
   "execution_count": 384,
   "metadata": {},
   "outputs": [
    {
     "name": "stdout",
     "output_type": "stream",
     "text": [
      "nan\n"
     ]
    }
   ],
   "source": [
    "spearman_corr = modbus_VA['value'].corr(modbus_W['value'], method='spearman')\n",
    "print(spearman_corr)"
   ]
  },
  {
   "cell_type": "code",
   "execution_count": 385,
   "metadata": {},
   "outputs": [
    {
     "data": {
      "text/plain": [
       "array(['storage', 'hive', 'server_room', 'office', 'class_a',\n",
       "       'meeting_room', 'pair_room', 'class_b'], dtype=object)"
      ]
     },
     "execution_count": 385,
     "metadata": {},
     "output_type": "execute_result"
    }
   ],
   "source": [
    "mqtt_temperature['place'].unique()"
   ]
  },
  {
   "cell_type": "code",
   "execution_count": 386,
   "metadata": {},
   "outputs": [],
   "source": [
    "mqtt_temperature_entrance = mqtt_temperature[mqtt_temperature['spot'] == '입구']"
   ]
  },
  {
   "cell_type": "code",
   "execution_count": 387,
   "metadata": {},
   "outputs": [],
   "source": [
    "pd.set_option('display.max_rows', None)  # 행 수 제한 해제\n",
    "pd.set_option('display.max_columns', None)  # 열 수 제한 해제"
   ]
  },
  {
   "cell_type": "markdown",
   "metadata": {},
   "source": [
    "## temperature와 humidity(온도와 습도)"
   ]
  },
  {
   "cell_type": "code",
   "execution_count": 388,
   "metadata": {},
   "outputs": [
    {
     "data": {
      "text/html": [
       "<div>\n",
       "<style scoped>\n",
       "    .dataframe tbody tr th:only-of-type {\n",
       "        vertical-align: middle;\n",
       "    }\n",
       "\n",
       "    .dataframe tbody tr th {\n",
       "        vertical-align: top;\n",
       "    }\n",
       "\n",
       "    .dataframe thead th {\n",
       "        text-align: right;\n",
       "    }\n",
       "</style>\n",
       "<table border=\"1\" class=\"dataframe\">\n",
       "  <thead>\n",
       "    <tr style=\"text-align: right;\">\n",
       "      <th></th>\n",
       "      <th>mqtt_id</th>\n",
       "      <th>measurement</th>\n",
       "      <th>place</th>\n",
       "      <th>spot</th>\n",
       "      <th>value</th>\n",
       "      <th>timestamp</th>\n",
       "    </tr>\n",
       "  </thead>\n",
       "  <tbody>\n",
       "    <tr>\n",
       "      <th>0</th>\n",
       "      <td>1</td>\n",
       "      <td>temperature</td>\n",
       "      <td>storage</td>\n",
       "      <td>입구</td>\n",
       "      <td>18.5</td>\n",
       "      <td>2024-12-17 19:04:11</td>\n",
       "    </tr>\n",
       "    <tr>\n",
       "      <th>2</th>\n",
       "      <td>3</td>\n",
       "      <td>temperature</td>\n",
       "      <td>hive</td>\n",
       "      <td>정수기 위</td>\n",
       "      <td>25.0</td>\n",
       "      <td>2024-12-17 19:04:19</td>\n",
       "    </tr>\n",
       "    <tr>\n",
       "      <th>5</th>\n",
       "      <td>6</td>\n",
       "      <td>temperature</td>\n",
       "      <td>server_room</td>\n",
       "      <td>입구</td>\n",
       "      <td>24.6</td>\n",
       "      <td>2024-12-17 19:04:26</td>\n",
       "    </tr>\n",
       "    <tr>\n",
       "      <th>12</th>\n",
       "      <td>13</td>\n",
       "      <td>temperature</td>\n",
       "      <td>office</td>\n",
       "      <td>배전판 옆</td>\n",
       "      <td>25.0</td>\n",
       "      <td>2024-12-17 19:04:30</td>\n",
       "    </tr>\n",
       "    <tr>\n",
       "      <th>19</th>\n",
       "      <td>20</td>\n",
       "      <td>temperature</td>\n",
       "      <td>class_a</td>\n",
       "      <td>왼쪽 뒤</td>\n",
       "      <td>22.8</td>\n",
       "      <td>2024-12-17 19:04:42</td>\n",
       "    </tr>\n",
       "  </tbody>\n",
       "</table>\n",
       "</div>"
      ],
      "text/plain": [
       "    mqtt_id  measurement        place   spot  value            timestamp\n",
       "0         1  temperature      storage     입구   18.5  2024-12-17 19:04:11\n",
       "2         3  temperature         hive  정수기 위   25.0  2024-12-17 19:04:19\n",
       "5         6  temperature  server_room     입구   24.6  2024-12-17 19:04:26\n",
       "12       13  temperature       office  배전판 옆   25.0  2024-12-17 19:04:30\n",
       "19       20  temperature      class_a   왼쪽 뒤   22.8  2024-12-17 19:04:42"
      ]
     },
     "execution_count": 388,
     "metadata": {},
     "output_type": "execute_result"
    }
   ],
   "source": [
    "mqtt_temperature.head()"
   ]
  },
  {
   "cell_type": "code",
   "execution_count": 389,
   "metadata": {},
   "outputs": [
    {
     "data": {
      "text/html": [
       "<div>\n",
       "<style scoped>\n",
       "    .dataframe tbody tr th:only-of-type {\n",
       "        vertical-align: middle;\n",
       "    }\n",
       "\n",
       "    .dataframe tbody tr th {\n",
       "        vertical-align: top;\n",
       "    }\n",
       "\n",
       "    .dataframe thead th {\n",
       "        text-align: right;\n",
       "    }\n",
       "</style>\n",
       "<table border=\"1\" class=\"dataframe\">\n",
       "  <thead>\n",
       "    <tr style=\"text-align: right;\">\n",
       "      <th></th>\n",
       "      <th>mqtt_id</th>\n",
       "      <th>measurement</th>\n",
       "      <th>place</th>\n",
       "      <th>spot</th>\n",
       "      <th>value</th>\n",
       "      <th>timestamp</th>\n",
       "    </tr>\n",
       "  </thead>\n",
       "  <tbody>\n",
       "    <tr>\n",
       "      <th>1</th>\n",
       "      <td>2</td>\n",
       "      <td>humidity</td>\n",
       "      <td>storage</td>\n",
       "      <td>입구</td>\n",
       "      <td>23.0</td>\n",
       "      <td>2024-12-17 19:04:11</td>\n",
       "    </tr>\n",
       "    <tr>\n",
       "      <th>4</th>\n",
       "      <td>5</td>\n",
       "      <td>humidity</td>\n",
       "      <td>hive</td>\n",
       "      <td>정수기 위</td>\n",
       "      <td>20.5</td>\n",
       "      <td>2024-12-17 19:04:19</td>\n",
       "    </tr>\n",
       "    <tr>\n",
       "      <th>6</th>\n",
       "      <td>7</td>\n",
       "      <td>humidity</td>\n",
       "      <td>server_room</td>\n",
       "      <td>입구</td>\n",
       "      <td>19.0</td>\n",
       "      <td>2024-12-17 19:04:26</td>\n",
       "    </tr>\n",
       "    <tr>\n",
       "      <th>10</th>\n",
       "      <td>11</td>\n",
       "      <td>humidity</td>\n",
       "      <td>office</td>\n",
       "      <td>배전판 옆</td>\n",
       "      <td>21.0</td>\n",
       "      <td>2024-12-17 19:04:30</td>\n",
       "    </tr>\n",
       "    <tr>\n",
       "      <th>16</th>\n",
       "      <td>17</td>\n",
       "      <td>humidity</td>\n",
       "      <td>class_a</td>\n",
       "      <td>왼쪽 뒤</td>\n",
       "      <td>30.0</td>\n",
       "      <td>2024-12-17 19:04:42</td>\n",
       "    </tr>\n",
       "  </tbody>\n",
       "</table>\n",
       "</div>"
      ],
      "text/plain": [
       "    mqtt_id measurement        place   spot  value            timestamp\n",
       "1         2    humidity      storage     입구   23.0  2024-12-17 19:04:11\n",
       "4         5    humidity         hive  정수기 위   20.5  2024-12-17 19:04:19\n",
       "6         7    humidity  server_room     입구   19.0  2024-12-17 19:04:26\n",
       "10       11    humidity       office  배전판 옆   21.0  2024-12-17 19:04:30\n",
       "16       17    humidity      class_a   왼쪽 뒤   30.0  2024-12-17 19:04:42"
      ]
     },
     "execution_count": 389,
     "metadata": {},
     "output_type": "execute_result"
    }
   ],
   "source": [
    "mqtt_humidity.head()"
   ]
  },
  {
   "cell_type": "code",
   "execution_count": 390,
   "metadata": {},
   "outputs": [
    {
     "data": {
      "text/plain": [
       "array(['storage', 'hive', 'server_room', 'office', 'class_a',\n",
       "       'meeting_room', 'pair_room', 'class_b'], dtype=object)"
      ]
     },
     "execution_count": 390,
     "metadata": {},
     "output_type": "execute_result"
    }
   ],
   "source": [
    "mqtt_temperature['place'].unique()"
   ]
  },
  {
   "cell_type": "code",
   "execution_count": 391,
   "metadata": {},
   "outputs": [
    {
     "data": {
      "text/plain": [
       "array(['storage', 'hive', 'server_room', 'office', 'class_a',\n",
       "       'meeting_room', 'pair_room', 'class_b'], dtype=object)"
      ]
     },
     "execution_count": 391,
     "metadata": {},
     "output_type": "execute_result"
    }
   ],
   "source": [
    "mqtt_humidity['place'].unique()"
   ]
  },
  {
   "cell_type": "code",
   "execution_count": 392,
   "metadata": {},
   "outputs": [
    {
     "name": "stdout",
     "output_type": "stream",
     "text": [
      "   mqtt_id_temp measurement_temp    place spot_temp  value_temp  \\\n",
      "0             1      temperature  storage        입구        18.5   \n",
      "1             1      temperature  storage        입구        18.5   \n",
      "2             1      temperature  storage        입구        18.5   \n",
      "3             1      temperature  storage        입구        18.5   \n",
      "4             1      temperature  storage        입구        18.5   \n",
      "\n",
      "        timestamp_temp  mqtt_id_humid measurement_humid spot_humid  \\\n",
      "0  2024-12-17 19:04:11              2          humidity         입구   \n",
      "1  2024-12-17 19:04:11             24          humidity         입구   \n",
      "2  2024-12-17 19:04:11             47          humidity         입구   \n",
      "3  2024-12-17 19:04:11             49          humidity         입구   \n",
      "4  2024-12-17 19:04:11             75          humidity         입구   \n",
      "\n",
      "   value_humid      timestamp_humid  \n",
      "0         23.0  2024-12-17 19:04:11  \n",
      "1         23.0  2024-12-17 19:05:11  \n",
      "2         23.0  2024-12-17 19:06:11  \n",
      "3         23.0  2024-12-17 19:06:11  \n",
      "4         23.0  2024-12-17 19:07:11  \n",
      "Index(['mqtt_id_temp', 'measurement_temp', 'place', 'spot_temp', 'value_temp',\n",
      "       'timestamp_temp', 'mqtt_id_humid', 'measurement_humid', 'spot_humid',\n",
      "       'value_humid', 'timestamp_humid'],\n",
      "      dtype='object')\n",
      "Location: class_a, Correlation: -3.469446951953614e-18\n",
      "Location: class_b, Correlation: 2.0816681711721685e-17\n",
      "Location: hive, Correlation: 1.6696713456276768e-17\n",
      "Location: meeting_room, Correlation: 5.551115123125783e-17\n",
      "Location: office, Correlation: -7.806255641895632e-18\n",
      "Location: pair_room, Correlation: nan\n",
      "Location: server_room, Correlation: 1.474514954580286e-17\n",
      "Location: storage, Correlation: nan\n"
     ]
    },
    {
     "name": "stderr",
     "output_type": "stream",
     "text": [
      "/tmp/ipykernel_85447/3974742266.py:15: ConstantInputWarning: An input array is constant; the correlation coefficient is not defined.\n",
      "  correlation, _ = pearsonr(group['value_temp'], group['value_humid'])\n"
     ]
    }
   ],
   "source": [
    "# ['place']를 기준으로 병합\n",
    "merged_df = pd.merge(\n",
    "    mqtt_temperature, \n",
    "    mqtt_humidity, \n",
    "    on='place',  # 병합 기준\n",
    "    suffixes=('_temp', '_humid')  # 중복된 열 이름에 접미사 추가\n",
    ")\n",
    "\n",
    "print(merged_df.head())\n",
    "print(merged_df.columns)\n",
    "\n",
    "results = {}\n",
    "for location, group in merged_df.groupby('place'):\n",
    "    if len(group) > 1: \n",
    "        correlation, _ = pearsonr(group['value_temp'], group['value_humid'])\n",
    "        results[location] = correlation\n",
    "    else:\n",
    "        results[location] = None \n",
    "\n",
    "# 결과 출력\n",
    "for location, correlation in results.items():\n",
    "    print(f\"Location: {location}, Correlation: {correlation}\")\n"
   ]
  },
  {
   "cell_type": "code",
   "execution_count": 393,
   "metadata": {},
   "outputs": [
    {
     "data": {
      "text/html": [
       "<div>\n",
       "<style scoped>\n",
       "    .dataframe tbody tr th:only-of-type {\n",
       "        vertical-align: middle;\n",
       "    }\n",
       "\n",
       "    .dataframe tbody tr th {\n",
       "        vertical-align: top;\n",
       "    }\n",
       "\n",
       "    .dataframe thead th {\n",
       "        text-align: right;\n",
       "    }\n",
       "</style>\n",
       "<table border=\"1\" class=\"dataframe\">\n",
       "  <thead>\n",
       "    <tr style=\"text-align: right;\">\n",
       "      <th></th>\n",
       "      <th>mqtt_id_temp</th>\n",
       "      <th>measurement_temp</th>\n",
       "      <th>place</th>\n",
       "      <th>spot_temp</th>\n",
       "      <th>value_temp</th>\n",
       "      <th>timestamp_temp</th>\n",
       "      <th>mqtt_id_humid</th>\n",
       "      <th>measurement_humid</th>\n",
       "      <th>spot_humid</th>\n",
       "      <th>value_humid</th>\n",
       "      <th>timestamp_humid</th>\n",
       "    </tr>\n",
       "  </thead>\n",
       "  <tbody>\n",
       "    <tr>\n",
       "      <th>0</th>\n",
       "      <td>1</td>\n",
       "      <td>temperature</td>\n",
       "      <td>storage</td>\n",
       "      <td>입구</td>\n",
       "      <td>18.5</td>\n",
       "      <td>2024-12-17 19:04:11</td>\n",
       "      <td>2</td>\n",
       "      <td>humidity</td>\n",
       "      <td>입구</td>\n",
       "      <td>23.0</td>\n",
       "      <td>2024-12-17 19:04:11</td>\n",
       "    </tr>\n",
       "    <tr>\n",
       "      <th>1</th>\n",
       "      <td>1</td>\n",
       "      <td>temperature</td>\n",
       "      <td>storage</td>\n",
       "      <td>입구</td>\n",
       "      <td>18.5</td>\n",
       "      <td>2024-12-17 19:04:11</td>\n",
       "      <td>24</td>\n",
       "      <td>humidity</td>\n",
       "      <td>입구</td>\n",
       "      <td>23.0</td>\n",
       "      <td>2024-12-17 19:05:11</td>\n",
       "    </tr>\n",
       "    <tr>\n",
       "      <th>2</th>\n",
       "      <td>1</td>\n",
       "      <td>temperature</td>\n",
       "      <td>storage</td>\n",
       "      <td>입구</td>\n",
       "      <td>18.5</td>\n",
       "      <td>2024-12-17 19:04:11</td>\n",
       "      <td>47</td>\n",
       "      <td>humidity</td>\n",
       "      <td>입구</td>\n",
       "      <td>23.0</td>\n",
       "      <td>2024-12-17 19:06:11</td>\n",
       "    </tr>\n",
       "    <tr>\n",
       "      <th>3</th>\n",
       "      <td>1</td>\n",
       "      <td>temperature</td>\n",
       "      <td>storage</td>\n",
       "      <td>입구</td>\n",
       "      <td>18.5</td>\n",
       "      <td>2024-12-17 19:04:11</td>\n",
       "      <td>49</td>\n",
       "      <td>humidity</td>\n",
       "      <td>입구</td>\n",
       "      <td>23.0</td>\n",
       "      <td>2024-12-17 19:06:11</td>\n",
       "    </tr>\n",
       "    <tr>\n",
       "      <th>4</th>\n",
       "      <td>1</td>\n",
       "      <td>temperature</td>\n",
       "      <td>storage</td>\n",
       "      <td>입구</td>\n",
       "      <td>18.5</td>\n",
       "      <td>2024-12-17 19:04:11</td>\n",
       "      <td>75</td>\n",
       "      <td>humidity</td>\n",
       "      <td>입구</td>\n",
       "      <td>23.0</td>\n",
       "      <td>2024-12-17 19:07:11</td>\n",
       "    </tr>\n",
       "  </tbody>\n",
       "</table>\n",
       "</div>"
      ],
      "text/plain": [
       "   mqtt_id_temp measurement_temp    place spot_temp  value_temp  \\\n",
       "0             1      temperature  storage        입구        18.5   \n",
       "1             1      temperature  storage        입구        18.5   \n",
       "2             1      temperature  storage        입구        18.5   \n",
       "3             1      temperature  storage        입구        18.5   \n",
       "4             1      temperature  storage        입구        18.5   \n",
       "\n",
       "        timestamp_temp  mqtt_id_humid measurement_humid spot_humid  \\\n",
       "0  2024-12-17 19:04:11              2          humidity         입구   \n",
       "1  2024-12-17 19:04:11             24          humidity         입구   \n",
       "2  2024-12-17 19:04:11             47          humidity         입구   \n",
       "3  2024-12-17 19:04:11             49          humidity         입구   \n",
       "4  2024-12-17 19:04:11             75          humidity         입구   \n",
       "\n",
       "   value_humid      timestamp_humid  \n",
       "0         23.0  2024-12-17 19:04:11  \n",
       "1         23.0  2024-12-17 19:05:11  \n",
       "2         23.0  2024-12-17 19:06:11  \n",
       "3         23.0  2024-12-17 19:06:11  \n",
       "4         23.0  2024-12-17 19:07:11  "
      ]
     },
     "execution_count": 393,
     "metadata": {},
     "output_type": "execute_result"
    }
   ],
   "source": [
    "merged_df.head()"
   ]
  },
  {
   "cell_type": "code",
   "execution_count": 394,
   "metadata": {},
   "outputs": [
    {
     "name": "stderr",
     "output_type": "stream",
     "text": [
      "/tmp/ipykernel_85447/2549134180.py:8: FutureWarning: \n",
      "\n",
      "Passing `palette` without assigning `hue` is deprecated and will be removed in v0.14.0. Assign the `x` variable to `hue` and set `legend=False` for the same effect.\n",
      "\n",
      "  sns.barplot(x='Place', y='Correlation', data=correlation_df, palette='viridis')\n"
     ]
    },
    {
     "data": {
      "image/png": "[encoded data removed]",
      "text/plain": [
       "<Figure size 1000x600 with 1 Axes>"
      ]
     },
     "metadata": {},
     "output_type": "display_data"
    }
   ],
   "source": [
    "import seaborn as sns\n",
    "\n",
    "# 상관관계 결과를 데이터프레임으로 변환\n",
    "correlation_df = pd.DataFrame(list(results.items()), columns=['Place', 'Correlation'])\n",
    "\n",
    "# 그래프 설정\n",
    "plt.figure(figsize=(10, 6))\n",
    "sns.barplot(x='Place', y='Correlation', data=correlation_df, palette='viridis')\n",
    "\n",
    "# 그래프 꾸미기\n",
    "plt.title('Correlation between Temperature and Humidity by Place')\n",
    "plt.xlabel('Place')\n",
    "plt.ylabel('Correlation')\n",
    "plt.xticks(rotation=45)\n",
    "plt.tight_layout()\n",
    "\n",
    "# 그래프 출력\n",
    "plt.show()\n"
   ]
  },
  {
   "cell_type": "code",
   "execution_count": 395,
   "metadata": {},
   "outputs": [
    {
     "data": {
      "image/png": "[encoded data removed]",
      "text/plain": [
       "<Figure size 1000x600 with 1 Axes>"
      ]
     },
     "metadata": {},
     "output_type": "display_data"
    }
   ],
   "source": [
    "plt.figure(figsize=(10, 6))\n",
    "\n",
    "# 장소별로 산점도 시각화\n",
    "for location, group in merged_df.groupby('place'):\n",
    "    plt.scatter(group['value_temp'], group['value_humid'], label=location, alpha=0.7)\n",
    "\n",
    "# 그래프 꾸미기\n",
    "plt.title('Scatter Plot of Temperature vs Humidity by Place')\n",
    "plt.xlabel('Temperature (°C)')\n",
    "plt.ylabel('Humidity (%)')\n",
    "plt.legend(title='Place')\n",
    "plt.tight_layout()\n",
    "\n",
    "# 그래프 출력\n",
    "plt.show()"
   ]
  },
  {
   "cell_type": "markdown",
   "metadata": {},
   "source": [
    "## CO2와 tvoc(공기질 관련)"
   ]
  },
  {
   "cell_type": "code",
   "execution_count": 396,
   "metadata": {},
   "outputs": [
    {
     "data": {
      "text/plain": [
       "array(['class_a', 'office', 'class_b'], dtype=object)"
      ]
     },
     "execution_count": 396,
     "metadata": {},
     "output_type": "execute_result"
    }
   ],
   "source": [
    "mqtt_co2['place'].unique()"
   ]
  },
  {
   "cell_type": "code",
   "execution_count": 397,
   "metadata": {},
   "outputs": [
    {
     "data": {
      "text/plain": [
       "array(['class_b'], dtype=object)"
      ]
     },
     "execution_count": 397,
     "metadata": {},
     "output_type": "execute_result"
    }
   ],
   "source": [
    "mqtt_tvoc['place'].unique()"
   ]
  },
  {
   "cell_type": "code",
   "execution_count": 398,
   "metadata": {},
   "outputs": [],
   "source": [
    "merged_df_quality = pd.merge(\n",
    "    mqtt_co2, \n",
    "    mqtt_tvoc, \n",
    "    on='place',\n",
    "    suffixes=('_co2', '_tvoc')\n",
    ")"
   ]
  },
  {
   "cell_type": "code",
   "execution_count": 399,
   "metadata": {},
   "outputs": [
    {
     "data": {
      "text/html": [
       "<div>\n",
       "<style scoped>\n",
       "    .dataframe tbody tr th:only-of-type {\n",
       "        vertical-align: middle;\n",
       "    }\n",
       "\n",
       "    .dataframe tbody tr th {\n",
       "        vertical-align: top;\n",
       "    }\n",
       "\n",
       "    .dataframe thead th {\n",
       "        text-align: right;\n",
       "    }\n",
       "</style>\n",
       "<table border=\"1\" class=\"dataframe\">\n",
       "  <thead>\n",
       "    <tr style=\"text-align: right;\">\n",
       "      <th></th>\n",
       "      <th>mqtt_id_co2</th>\n",
       "      <th>measurement_co2</th>\n",
       "      <th>place</th>\n",
       "      <th>spot_co2</th>\n",
       "      <th>value_co2</th>\n",
       "      <th>timestamp_co2</th>\n",
       "      <th>mqtt_id_tvoc</th>\n",
       "      <th>measurement_tvoc</th>\n",
       "      <th>spot_tvoc</th>\n",
       "      <th>value_tvoc</th>\n",
       "      <th>timestamp_tvoc</th>\n",
       "    </tr>\n",
       "  </thead>\n",
       "  <tbody>\n",
       "    <tr>\n",
       "      <th>0</th>\n",
       "      <td>168</td>\n",
       "      <td>co2</td>\n",
       "      <td>class_b</td>\n",
       "      <td>입구</td>\n",
       "      <td>1094.0</td>\n",
       "      <td>2024-12-17 19:09:48</td>\n",
       "      <td>161</td>\n",
       "      <td>tvoc</td>\n",
       "      <td>입구</td>\n",
       "      <td>253.0</td>\n",
       "      <td>2024-12-17 19:09:48</td>\n",
       "    </tr>\n",
       "    <tr>\n",
       "      <th>1</th>\n",
       "      <td>168</td>\n",
       "      <td>co2</td>\n",
       "      <td>class_b</td>\n",
       "      <td>입구</td>\n",
       "      <td>1094.0</td>\n",
       "      <td>2024-12-17 19:09:48</td>\n",
       "      <td>442</td>\n",
       "      <td>tvoc</td>\n",
       "      <td>입구</td>\n",
       "      <td>244.0</td>\n",
       "      <td>2024-12-17 19:19:48</td>\n",
       "    </tr>\n",
       "    <tr>\n",
       "      <th>2</th>\n",
       "      <td>168</td>\n",
       "      <td>co2</td>\n",
       "      <td>class_b</td>\n",
       "      <td>입구</td>\n",
       "      <td>1094.0</td>\n",
       "      <td>2024-12-17 19:09:48</td>\n",
       "      <td>449</td>\n",
       "      <td>tvoc</td>\n",
       "      <td>입구</td>\n",
       "      <td>244.0</td>\n",
       "      <td>2024-12-17 19:19:48</td>\n",
       "    </tr>\n",
       "    <tr>\n",
       "      <th>3</th>\n",
       "      <td>168</td>\n",
       "      <td>co2</td>\n",
       "      <td>class_b</td>\n",
       "      <td>입구</td>\n",
       "      <td>1094.0</td>\n",
       "      <td>2024-12-17 19:09:48</td>\n",
       "      <td>725</td>\n",
       "      <td>tvoc</td>\n",
       "      <td>입구</td>\n",
       "      <td>236.0</td>\n",
       "      <td>2024-12-17 19:29:48</td>\n",
       "    </tr>\n",
       "    <tr>\n",
       "      <th>4</th>\n",
       "      <td>438</td>\n",
       "      <td>co2</td>\n",
       "      <td>class_b</td>\n",
       "      <td>입구</td>\n",
       "      <td>1046.0</td>\n",
       "      <td>2024-12-17 19:19:48</td>\n",
       "      <td>161</td>\n",
       "      <td>tvoc</td>\n",
       "      <td>입구</td>\n",
       "      <td>253.0</td>\n",
       "      <td>2024-12-17 19:09:48</td>\n",
       "    </tr>\n",
       "  </tbody>\n",
       "</table>\n",
       "</div>"
      ],
      "text/plain": [
       "   mqtt_id_co2 measurement_co2    place spot_co2  value_co2  \\\n",
       "0          168             co2  class_b       입구     1094.0   \n",
       "1          168             co2  class_b       입구     1094.0   \n",
       "2          168             co2  class_b       입구     1094.0   \n",
       "3          168             co2  class_b       입구     1094.0   \n",
       "4          438             co2  class_b       입구     1046.0   \n",
       "\n",
       "         timestamp_co2  mqtt_id_tvoc measurement_tvoc spot_tvoc  value_tvoc  \\\n",
       "0  2024-12-17 19:09:48           161             tvoc        입구       253.0   \n",
       "1  2024-12-17 19:09:48           442             tvoc        입구       244.0   \n",
       "2  2024-12-17 19:09:48           449             tvoc        입구       244.0   \n",
       "3  2024-12-17 19:09:48           725             tvoc        입구       236.0   \n",
       "4  2024-12-17 19:19:48           161             tvoc        입구       253.0   \n",
       "\n",
       "        timestamp_tvoc  \n",
       "0  2024-12-17 19:09:48  \n",
       "1  2024-12-17 19:19:48  \n",
       "2  2024-12-17 19:19:48  \n",
       "3  2024-12-17 19:29:48  \n",
       "4  2024-12-17 19:09:48  "
      ]
     },
     "execution_count": 399,
     "metadata": {},
     "output_type": "execute_result"
    }
   ],
   "source": [
    "merged_df_quality.head()"
   ]
  },
  {
   "cell_type": "code",
   "execution_count": 400,
   "metadata": {},
   "outputs": [
    {
     "data": {
      "image/png": "[encoded data removed]",
      "text/plain": [
       "<Figure size 600x500 with 2 Axes>"
      ]
     },
     "metadata": {},
     "output_type": "display_data"
    }
   ],
   "source": [
    "# 'class_b' 장소에서 CO2와 TVOC 데이터 필터링\n",
    "class_b_data = merged_df_quality[merged_df_quality['place'] == 'class_b']\n",
    "\n",
    "# CO2와 TVOC 간의 상관계수 매트릭스 계산\n",
    "correlation_matrix = class_b_data[['value_co2', 'value_tvoc']].corr()\n",
    "\n",
    "# 히트맵 시각화\n",
    "plt.figure(figsize=(6, 5))\n",
    "sns.heatmap(correlation_matrix, annot=True, cmap='coolwarm', fmt='.2f', cbar=True)\n",
    "plt.title('Correlation Heatmap: CO2 vs TVOC in class_b')\n",
    "plt.tight_layout()\n",
    "plt.show()\n"
   ]
  },
  {
   "cell_type": "markdown",
   "metadata": {},
   "source": [
    "## CO2와 OCCUPANCY (재실 여부와 이산화탄소)"
   ]
  },
  {
   "cell_type": "code",
   "execution_count": 401,
   "metadata": {},
   "outputs": [
    {
     "data": {
      "text/plain": [
       "array(['class_a', 'office', 'class_b'], dtype=object)"
      ]
     },
     "execution_count": 401,
     "metadata": {},
     "output_type": "execute_result"
    }
   ],
   "source": [
    "mqtt_co2['place'].unique()"
   ]
  },
  {
   "cell_type": "code",
   "execution_count": 402,
   "metadata": {},
   "outputs": [
    {
     "data": {
      "text/plain": [
       "array(['pair_room'], dtype=object)"
      ]
     },
     "execution_count": 402,
     "metadata": {},
     "output_type": "execute_result"
    }
   ],
   "source": [
    "mqtt_occupancy['place'].unique()"
   ]
  },
  {
   "cell_type": "markdown",
   "metadata": {},
   "source": [
    "## Illumination와 infrared(조도 관련)"
   ]
  },
  {
   "cell_type": "code",
   "execution_count": 403,
   "metadata": {},
   "outputs": [
    {
     "data": {
      "text/plain": [
       "array(['class_b'], dtype=object)"
      ]
     },
     "execution_count": 403,
     "metadata": {},
     "output_type": "execute_result"
    }
   ],
   "source": [
    "mqtt_illumination['place'].unique()"
   ]
  },
  {
   "cell_type": "code",
   "execution_count": 404,
   "metadata": {},
   "outputs": [
    {
     "data": {
      "text/plain": [
       "array(['class_b'], dtype=object)"
      ]
     },
     "execution_count": 404,
     "metadata": {},
     "output_type": "execute_result"
    }
   ],
   "source": [
    "mqtt_infrared['place'].unique()"
   ]
  },
  {
   "cell_type": "code",
   "execution_count": 405,
   "metadata": {},
   "outputs": [],
   "source": [
    "merged_df_ligh = pd.merge(\n",
    "    mqtt_illumination, \n",
    "    mqtt_infrared, \n",
    "    on='place',\n",
    "    suffixes=('_illumination', '_infrared')\n",
    ")"
   ]
  },
  {
   "cell_type": "code",
   "execution_count": 406,
   "metadata": {},
   "outputs": [
    {
     "data": {
      "text/html": [
       "<div>\n",
       "<style scoped>\n",
       "    .dataframe tbody tr th:only-of-type {\n",
       "        vertical-align: middle;\n",
       "    }\n",
       "\n",
       "    .dataframe tbody tr th {\n",
       "        vertical-align: top;\n",
       "    }\n",
       "\n",
       "    .dataframe thead th {\n",
       "        text-align: right;\n",
       "    }\n",
       "</style>\n",
       "<table border=\"1\" class=\"dataframe\">\n",
       "  <thead>\n",
       "    <tr style=\"text-align: right;\">\n",
       "      <th></th>\n",
       "      <th>mqtt_id_illumination</th>\n",
       "      <th>measurement_illumination</th>\n",
       "      <th>place</th>\n",
       "      <th>spot_illumination</th>\n",
       "      <th>value_illumination</th>\n",
       "      <th>timestamp_illumination</th>\n",
       "      <th>mqtt_id_infrared</th>\n",
       "      <th>measurement_infrared</th>\n",
       "      <th>spot_infrared</th>\n",
       "      <th>value_infrared</th>\n",
       "      <th>timestamp_infrared</th>\n",
       "    </tr>\n",
       "  </thead>\n",
       "  <tbody>\n",
       "    <tr>\n",
       "      <th>0</th>\n",
       "      <td>165</td>\n",
       "      <td>illumination</td>\n",
       "      <td>class_b</td>\n",
       "      <td>입구</td>\n",
       "      <td>1.0</td>\n",
       "      <td>2024-12-17 19:09:48</td>\n",
       "      <td>160</td>\n",
       "      <td>infrared</td>\n",
       "      <td>입구</td>\n",
       "      <td>1.0</td>\n",
       "      <td>2024-12-17 19:09:48</td>\n",
       "    </tr>\n",
       "    <tr>\n",
       "      <th>1</th>\n",
       "      <td>165</td>\n",
       "      <td>illumination</td>\n",
       "      <td>class_b</td>\n",
       "      <td>입구</td>\n",
       "      <td>1.0</td>\n",
       "      <td>2024-12-17 19:09:48</td>\n",
       "      <td>441</td>\n",
       "      <td>infrared</td>\n",
       "      <td>입구</td>\n",
       "      <td>1.0</td>\n",
       "      <td>2024-12-17 19:19:48</td>\n",
       "    </tr>\n",
       "    <tr>\n",
       "      <th>2</th>\n",
       "      <td>165</td>\n",
       "      <td>illumination</td>\n",
       "      <td>class_b</td>\n",
       "      <td>입구</td>\n",
       "      <td>1.0</td>\n",
       "      <td>2024-12-17 19:09:48</td>\n",
       "      <td>443</td>\n",
       "      <td>infrared</td>\n",
       "      <td>입구</td>\n",
       "      <td>1.0</td>\n",
       "      <td>2024-12-17 19:19:48</td>\n",
       "    </tr>\n",
       "    <tr>\n",
       "      <th>3</th>\n",
       "      <td>165</td>\n",
       "      <td>illumination</td>\n",
       "      <td>class_b</td>\n",
       "      <td>입구</td>\n",
       "      <td>1.0</td>\n",
       "      <td>2024-12-17 19:09:48</td>\n",
       "      <td>726</td>\n",
       "      <td>infrared</td>\n",
       "      <td>입구</td>\n",
       "      <td>1.0</td>\n",
       "      <td>2024-12-17 19:29:48</td>\n",
       "    </tr>\n",
       "    <tr>\n",
       "      <th>4</th>\n",
       "      <td>439</td>\n",
       "      <td>illumination</td>\n",
       "      <td>class_b</td>\n",
       "      <td>입구</td>\n",
       "      <td>1.0</td>\n",
       "      <td>2024-12-17 19:19:48</td>\n",
       "      <td>160</td>\n",
       "      <td>infrared</td>\n",
       "      <td>입구</td>\n",
       "      <td>1.0</td>\n",
       "      <td>2024-12-17 19:09:48</td>\n",
       "    </tr>\n",
       "  </tbody>\n",
       "</table>\n",
       "</div>"
      ],
      "text/plain": [
       "   mqtt_id_illumination measurement_illumination    place spot_illumination  \\\n",
       "0                   165             illumination  class_b                입구   \n",
       "1                   165             illumination  class_b                입구   \n",
       "2                   165             illumination  class_b                입구   \n",
       "3                   165             illumination  class_b                입구   \n",
       "4                   439             illumination  class_b                입구   \n",
       "\n",
       "   value_illumination timestamp_illumination  mqtt_id_infrared  \\\n",
       "0                 1.0    2024-12-17 19:09:48               160   \n",
       "1                 1.0    2024-12-17 19:09:48               441   \n",
       "2                 1.0    2024-12-17 19:09:48               443   \n",
       "3                 1.0    2024-12-17 19:09:48               726   \n",
       "4                 1.0    2024-12-17 19:19:48               160   \n",
       "\n",
       "  measurement_infrared spot_infrared  value_infrared   timestamp_infrared  \n",
       "0             infrared            입구             1.0  2024-12-17 19:09:48  \n",
       "1             infrared            입구             1.0  2024-12-17 19:19:48  \n",
       "2             infrared            입구             1.0  2024-12-17 19:19:48  \n",
       "3             infrared            입구             1.0  2024-12-17 19:29:48  \n",
       "4             infrared            입구             1.0  2024-12-17 19:09:48  "
      ]
     },
     "execution_count": 406,
     "metadata": {},
     "output_type": "execute_result"
    }
   ],
   "source": [
    "merged_df_ligh.head()"
   ]
  },
  {
   "cell_type": "code",
   "execution_count": 407,
   "metadata": {},
   "outputs": [
    {
     "data": {
      "image/png": "[encoded data removed]",
      "text/plain": [
       "<Figure size 800x600 with 1 Axes>"
      ]
     },
     "metadata": {},
     "output_type": "display_data"
    }
   ],
   "source": [
    "class_b_data = merged_df_ligh[merged_df_ligh['place'] == 'class_b']\n",
    "\n",
    "correlation_matrix = class_b_data[['value_illumination', 'value_infrared']].corr()\n",
    "\n",
    "class_b_data = merged_df_ligh[merged_df_ligh['place'] == 'class_b'].dropna(subset=['value_illumination', 'value_infrared'])\n",
    "\n",
    "\n",
    "# 산점도 그리기\n",
    "plt.figure(figsize=(8, 6))\n",
    "sns.scatterplot(x='value_illumination', y='value_infrared', data=class_b_data, color='blue', marker='o')\n",
    "plt.title('Scatter Plot: Illumination vs Infrared in class_b')\n",
    "plt.xlabel('Illumination')\n",
    "plt.ylabel('Infrared')\n",
    "plt.tight_layout()\n",
    "plt.show()"
   ]
  },
  {
   "cell_type": "code",
   "execution_count": 408,
   "metadata": {},
   "outputs": [
    {
     "data": {
      "image/png": "[encoded data removed]",
      "text/plain": [
       "<Figure size 1000x600 with 1 Axes>"
      ]
     },
     "metadata": {},
     "output_type": "display_data"
    }
   ],
   "source": [
    "class_b_data = merged_df_ligh[merged_df_ligh['place'] == 'class_b']\n",
    "\n",
    "class_b_data_clean = class_b_data.dropna(subset=['value_illumination', 'value_infrared'])\n",
    "\n",
    "plt.figure(figsize=(10, 6))\n",
    "\n",
    "plt.plot(class_b_data_clean['timestamp_illumination'], class_b_data_clean['value_illumination'], label='Illumination', color='blue', linewidth=4)\n",
    "plt.plot(class_b_data_clean['timestamp_infrared'], class_b_data_clean['value_infrared'], label='Infrared', color='red', linewidth=2)\n",
    "\n",
    "plt.title('Illumination and Infrared Values in Class B Over Time')\n",
    "plt.xlabel('Time')\n",
    "plt.ylabel('Value')\n",
    "plt.xticks(rotation=45)\n",
    "plt.legend()\n",
    "\n",
    "plt.tight_layout()\n",
    "plt.show()\n"
   ]
  },
  {
   "cell_type": "code",
   "execution_count": null,
   "metadata": {},
   "outputs": [],
   "source": []
  },
  {
   "cell_type": "code",
   "execution_count": null,
   "metadata": {},
   "outputs": [],
   "source": []
  },
  {
   "cell_type": "code",
   "execution_count": null,
   "metadata": {},
   "outputs": [],
   "source": []
  }
 ],
 "metadata": {
  "kernelspec": {
   "display_name": "base",
   "language": "python",
   "name": "python3"
  },
  "language_info": {
   "codemirror_mode": {
    "name": "ipython",
    "version": 3
   },
   "file_extension": ".py",
   "mimetype": "text/x-python",
   "name": "python",
   "nbconvert_exporter": "python",
   "pygments_lexer": "ipython3",
   "version": "3.12.4"
  }
 },
 "nbformat": 4,
 "nbformat_minor": 2
}
